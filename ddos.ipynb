{
 "cells": [
  {
   "cell_type": "code",
   "execution_count": 1,
   "id": "ba50f732",
   "metadata": {
    "_cell_guid": "b1076dfc-b9ad-4769-8c92-a6c4dae69d19",
    "_uuid": "8f2839f25d086af736a60e9eeb907d3b93b6e0e5",
    "execution": {
     "iopub.execute_input": "2022-02-14T16:29:50.267140Z",
     "iopub.status.busy": "2022-02-14T16:29:50.266195Z",
     "iopub.status.idle": "2022-02-14T16:29:50.288767Z",
     "shell.execute_reply": "2022-02-14T16:29:50.289348Z",
     "shell.execute_reply.started": "2022-02-14T04:54:07.974292Z"
    },
    "papermill": {
     "duration": 0.048615,
     "end_time": "2022-02-14T16:29:50.289522",
     "exception": false,
     "start_time": "2022-02-14T16:29:50.240907",
     "status": "completed"
    },
    "tags": []
   },
   "outputs": [
    {
     "name": "stdout",
     "output_type": "stream",
     "text": [
      "C:/Users/M BALAJI/web attack/MachineLearningCSV/MachineLearningCVE\\Friday-WorkingHours-Afternoon-DDos.pcap_ISCX.csv\n",
      "C:/Users/M BALAJI/web attack/MachineLearningCSV/MachineLearningCVE\\Friday-WorkingHours-Afternoon-PortScan.pcap_ISCX.csv\n",
      "C:/Users/M BALAJI/web attack/MachineLearningCSV/MachineLearningCVE\\Friday-WorkingHours-Morning.pcap_ISCX.csv\n",
      "C:/Users/M BALAJI/web attack/MachineLearningCSV/MachineLearningCVE\\Monday-WorkingHours.pcap_ISCX.csv\n",
      "C:/Users/M BALAJI/web attack/MachineLearningCSV/MachineLearningCVE\\Thursday-WorkingHours-Afternoon-Infilteration.pcap_ISCX.csv\n",
      "C:/Users/M BALAJI/web attack/MachineLearningCSV/MachineLearningCVE\\Thursday-WorkingHours-Morning-WebAttacks.pcap_ISCX.csv\n",
      "C:/Users/M BALAJI/web attack/MachineLearningCSV/MachineLearningCVE\\Tuesday-WorkingHours.pcap_ISCX.csv\n",
      "C:/Users/M BALAJI/web attack/MachineLearningCSV/MachineLearningCVE\\Wednesday-workingHours.pcap_ISCX.csv\n"
     ]
    }
   ],
   "source": [
    "# This Python 3 environment comes with many helpful analytics libraries installed\n",
    "# It is defined by the kaggle/python Docker image: https://github.com/kaggle/docker-python\n",
    "# For example, here's several helpful packages to load\n",
    "\n",
    "import numpy as np # linear algebra\n",
    "import pandas as pd # data processing, CSV file I/O (e.g. pd.read_csv)\n",
    "\n",
    "# Input data files are available in the read-only \"../input/\" directory\n",
    "# For example, running this (by clicking run or pressing Shift+Enter) will list all files under the input directory\n",
    "\n",
    "import os\n",
    "csv_files = []\n",
    "for dirname, _, filenames in os.walk(r\"C:/Users/M BALAJI/web attack/MachineLearningCSV/MachineLearningCVE\"):\n",
    "    for filename in filenames:\n",
    "        csv_file = os.path.join(dirname, filename)\n",
    "        print(os.path.join(dirname, filename))\n",
    "        csv_files.append(csv_file)\n",
    "\n",
    "# You can write up to 20GB to the current directory (/kaggle/working/) that gets preserved as output when you create a version using \"Save & Run All\" \n",
    "# You can also write temporary files to /kaggle/temp/, but they won't be saved outside of the current session"
   ]
  },
  {
   "cell_type": "code",
   "execution_count": 2,
   "id": "7f999350",
   "metadata": {
    "execution": {
     "iopub.execute_input": "2022-02-14T16:29:50.339126Z",
     "iopub.status.busy": "2022-02-14T16:29:50.338205Z",
     "iopub.status.idle": "2022-02-14T16:29:50.341586Z",
     "shell.execute_reply": "2022-02-14T16:29:50.342082Z",
     "shell.execute_reply.started": "2022-02-14T04:54:08.010777Z"
    },
    "papermill": {
     "duration": 0.029469,
     "end_time": "2022-02-14T16:29:50.342243",
     "exception": false,
     "start_time": "2022-02-14T16:29:50.312774",
     "status": "completed"
    },
    "tags": []
   },
   "outputs": [],
   "source": [
    "# pd.read_csv(csv_files[0])"
   ]
  },
  {
   "cell_type": "code",
   "execution_count": 3,
   "id": "f9837ea3",
   "metadata": {
    "execution": {
     "iopub.execute_input": "2022-02-14T16:29:50.393943Z",
     "iopub.status.busy": "2022-02-14T16:29:50.393041Z",
     "iopub.status.idle": "2022-02-14T16:30:23.209150Z",
     "shell.execute_reply": "2022-02-14T16:30:23.209623Z",
     "shell.execute_reply.started": "2022-02-14T04:54:08.016262Z"
    },
    "papermill": {
     "duration": 32.844945,
     "end_time": "2022-02-14T16:30:23.209789",
     "exception": false,
     "start_time": "2022-02-14T16:29:50.364844",
     "status": "completed"
    },
    "tags": []
   },
   "outputs": [
    {
     "name": "stdout",
     "output_type": "stream",
     "text": [
      "original length of df: 2830743\n",
      "after droping null values, the length of df: 2827876\n"
     ]
    }
   ],
   "source": [
    "df = pd.concat([pd.read_csv(file) for file in csv_files], ignore_index=True)\n",
    "df.columns = df.columns.str.strip()\n",
    "print(\"original length of df:\", len(df))\n",
    "df.replace([np.inf, -np.inf], np.nan, inplace=True)\n",
    "df.dropna(inplace=True)\n",
    "print(\"after droping null values, the length of df:\", len(df))\n",
    "# df_experiment = df.loc[df.Label.str.contains(pat='DoS|BENIGN',na=False)]\n",
    "# df_experiment = df_experiment.loc[~(df_experiment.Label ==\"DoS Slowhttptest\") ]\n",
    "\n",
    "# del df\n"
   ]
  },
  {
   "cell_type": "code",
   "execution_count": 4,
   "id": "24d786ff",
   "metadata": {
    "execution": {
     "iopub.execute_input": "2022-02-14T16:30:23.445800Z",
     "iopub.status.busy": "2022-02-14T16:30:23.445166Z",
     "iopub.status.idle": "2022-02-14T16:30:23.449160Z",
     "shell.execute_reply": "2022-02-14T16:30:23.448594Z",
     "shell.execute_reply.started": "2022-02-14T04:54:46.020438Z"
    },
    "papermill": {
     "duration": 0.216273,
     "end_time": "2022-02-14T16:30:23.449313",
     "exception": false,
     "start_time": "2022-02-14T16:30:23.233040",
     "status": "completed"
    },
    "tags": []
   },
   "outputs": [
    {
     "data": {
      "text/plain": [
       "BENIGN                        2271320\n",
       "DoS Hulk                       230124\n",
       "PortScan                       158804\n",
       "DDoS                           128025\n",
       "DoS GoldenEye                   10293\n",
       "FTP-Patator                      7935\n",
       "SSH-Patator                      5897\n",
       "DoS slowloris                    5796\n",
       "DoS Slowhttptest                 5499\n",
       "Bot                              1956\n",
       "Web Attack � Brute Force         1507\n",
       "Web Attack � XSS                  652\n",
       "Infiltration                       36\n",
       "Web Attack � Sql Injection         21\n",
       "Heartbleed                         11\n",
       "Name: Label, dtype: int64"
      ]
     },
     "execution_count": 4,
     "metadata": {},
     "output_type": "execute_result"
    }
   ],
   "source": [
    "df.Label.value_counts()\n",
    "# del df"
   ]
  },
  {
   "cell_type": "code",
   "execution_count": 5,
   "id": "b29e6545",
   "metadata": {
    "execution": {
     "iopub.execute_input": "2022-02-14T16:30:23.504110Z",
     "iopub.status.busy": "2022-02-14T16:30:23.503543Z",
     "iopub.status.idle": "2022-02-14T16:30:31.274850Z",
     "shell.execute_reply": "2022-02-14T16:30:31.274383Z",
     "shell.execute_reply.started": "2022-02-14T04:54:46.491660Z"
    },
    "papermill": {
     "duration": 7.801875,
     "end_time": "2022-02-14T16:30:31.274988",
     "exception": false,
     "start_time": "2022-02-14T16:30:23.473113",
     "status": "completed"
    },
    "scrolled": true,
    "tags": []
   },
   "outputs": [
    {
     "data": {
      "text/plain": [
       "BENIGN          2271320\n",
       "DoS              251712\n",
       "PortScan         158804\n",
       "DDoS             128025\n",
       "Brute Force       13832\n",
       "Web Attack         2180\n",
       "Bot                1956\n",
       "Infiltration         36\n",
       "Heartbleed           11\n",
       "Name: Label, dtype: int64"
      ]
     },
     "execution_count": 5,
     "metadata": {},
     "output_type": "execute_result"
    }
   ],
   "source": [
    "df_experiment = df.copy()\n",
    "df_experiment.Label.replace(\"Web.*\", \"Web Attack\", regex=True, inplace=True)\n",
    "df_experiment.Label.replace(r'.*Patator$', \"Brute Force\", regex=True,inplace=True)\n",
    "df_experiment.Label.replace([\"DoS GoldenEye\", \"DoS Hulk\", \"DoS Slowhttptest\", \"DoS slowloris\"], \"DoS\", inplace=True)\n",
    "df_experiment.Label.value_counts()"
   ]
  },
  {
   "cell_type": "code",
   "execution_count": 6,
   "id": "a05120d4",
   "metadata": {
    "execution": {
     "iopub.execute_input": "2022-02-14T16:30:31.326366Z",
     "iopub.status.busy": "2022-02-14T16:30:31.325799Z",
     "iopub.status.idle": "2022-02-14T16:30:31.348480Z",
     "shell.execute_reply": "2022-02-14T16:30:31.347965Z",
     "shell.execute_reply.started": "2022-02-14T04:54:57.722074Z"
    },
    "papermill": {
     "duration": 0.048962,
     "end_time": "2022-02-14T16:30:31.348616",
     "exception": false,
     "start_time": "2022-02-14T16:30:31.299654",
     "status": "completed"
    },
    "scrolled": true,
    "tags": []
   },
   "outputs": [
    {
     "data": {
      "text/html": [
       "<div>\n",
       "<style scoped>\n",
       "    .dataframe tbody tr th:only-of-type {\n",
       "        vertical-align: middle;\n",
       "    }\n",
       "\n",
       "    .dataframe tbody tr th {\n",
       "        vertical-align: top;\n",
       "    }\n",
       "\n",
       "    .dataframe thead th {\n",
       "        text-align: right;\n",
       "    }\n",
       "</style>\n",
       "<table border=\"1\" class=\"dataframe\">\n",
       "  <thead>\n",
       "    <tr style=\"text-align: right;\">\n",
       "      <th></th>\n",
       "      <th>Destination Port</th>\n",
       "      <th>Flow Duration</th>\n",
       "      <th>Total Fwd Packets</th>\n",
       "      <th>Total Backward Packets</th>\n",
       "      <th>Total Length of Fwd Packets</th>\n",
       "      <th>Total Length of Bwd Packets</th>\n",
       "      <th>Fwd Packet Length Max</th>\n",
       "      <th>Fwd Packet Length Min</th>\n",
       "      <th>Fwd Packet Length Mean</th>\n",
       "      <th>Fwd Packet Length Std</th>\n",
       "      <th>...</th>\n",
       "      <th>min_seg_size_forward</th>\n",
       "      <th>Active Mean</th>\n",
       "      <th>Active Std</th>\n",
       "      <th>Active Max</th>\n",
       "      <th>Active Min</th>\n",
       "      <th>Idle Mean</th>\n",
       "      <th>Idle Std</th>\n",
       "      <th>Idle Max</th>\n",
       "      <th>Idle Min</th>\n",
       "      <th>Label</th>\n",
       "    </tr>\n",
       "  </thead>\n",
       "  <tbody>\n",
       "    <tr>\n",
       "      <th>0</th>\n",
       "      <td>54865</td>\n",
       "      <td>3</td>\n",
       "      <td>2</td>\n",
       "      <td>0</td>\n",
       "      <td>12</td>\n",
       "      <td>0</td>\n",
       "      <td>6</td>\n",
       "      <td>6</td>\n",
       "      <td>6.0</td>\n",
       "      <td>0.0</td>\n",
       "      <td>...</td>\n",
       "      <td>20</td>\n",
       "      <td>0.0</td>\n",
       "      <td>0.0</td>\n",
       "      <td>0</td>\n",
       "      <td>0</td>\n",
       "      <td>0.0</td>\n",
       "      <td>0.0</td>\n",
       "      <td>0</td>\n",
       "      <td>0</td>\n",
       "      <td>BENIGN</td>\n",
       "    </tr>\n",
       "    <tr>\n",
       "      <th>1</th>\n",
       "      <td>55054</td>\n",
       "      <td>109</td>\n",
       "      <td>1</td>\n",
       "      <td>1</td>\n",
       "      <td>6</td>\n",
       "      <td>6</td>\n",
       "      <td>6</td>\n",
       "      <td>6</td>\n",
       "      <td>6.0</td>\n",
       "      <td>0.0</td>\n",
       "      <td>...</td>\n",
       "      <td>20</td>\n",
       "      <td>0.0</td>\n",
       "      <td>0.0</td>\n",
       "      <td>0</td>\n",
       "      <td>0</td>\n",
       "      <td>0.0</td>\n",
       "      <td>0.0</td>\n",
       "      <td>0</td>\n",
       "      <td>0</td>\n",
       "      <td>BENIGN</td>\n",
       "    </tr>\n",
       "  </tbody>\n",
       "</table>\n",
       "<p>2 rows × 79 columns</p>\n",
       "</div>"
      ],
      "text/plain": [
       "   Destination Port  Flow Duration  Total Fwd Packets  Total Backward Packets  \\\n",
       "0             54865              3                  2                       0   \n",
       "1             55054            109                  1                       1   \n",
       "\n",
       "   Total Length of Fwd Packets  Total Length of Bwd Packets  \\\n",
       "0                           12                            0   \n",
       "1                            6                            6   \n",
       "\n",
       "   Fwd Packet Length Max  Fwd Packet Length Min  Fwd Packet Length Mean  \\\n",
       "0                      6                      6                     6.0   \n",
       "1                      6                      6                     6.0   \n",
       "\n",
       "   Fwd Packet Length Std  ...  min_seg_size_forward  Active Mean  Active Std  \\\n",
       "0                    0.0  ...                    20          0.0         0.0   \n",
       "1                    0.0  ...                    20          0.0         0.0   \n",
       "\n",
       "   Active Max  Active Min  Idle Mean  Idle Std  Idle Max  Idle Min   Label  \n",
       "0           0           0        0.0       0.0         0         0  BENIGN  \n",
       "1           0           0        0.0       0.0         0         0  BENIGN  \n",
       "\n",
       "[2 rows x 79 columns]"
      ]
     },
     "execution_count": 6,
     "metadata": {},
     "output_type": "execute_result"
    }
   ],
   "source": [
    "df_experiment.head(5)"
   ]
  },
  {
   "cell_type": "code",
   "execution_count": 7,
   "id": "5435947f",
   "metadata": {
    "execution": {
     "iopub.execute_input": "2022-02-14T16:30:31.401643Z",
     "iopub.status.busy": "2022-02-14T16:30:31.401004Z",
     "iopub.status.idle": "2022-02-14T16:30:31.414747Z",
     "shell.execute_reply": "2022-02-14T16:30:31.415218Z",
     "shell.execute_reply.started": "2022-02-14T04:54:57.749868Z"
    },
    "papermill": {
     "duration": 0.041523,
     "end_time": "2022-02-14T16:30:31.415442",
     "exception": false,
     "start_time": "2022-02-14T16:30:31.373919",
     "status": "completed"
    },
    "tags": []
   },
   "outputs": [],
   "source": [
    "# df_experiment.Label.value_counts()\n",
    "del df"
   ]
  },
  {
   "cell_type": "code",
   "execution_count": 8,
   "id": "3d0f641d",
   "metadata": {
    "execution": {
     "iopub.execute_input": "2022-02-14T16:30:31.471237Z",
     "iopub.status.busy": "2022-02-14T16:30:31.470464Z",
     "iopub.status.idle": "2022-02-14T16:30:39.896550Z",
     "shell.execute_reply": "2022-02-14T16:30:39.896027Z",
     "shell.execute_reply.started": "2022-02-14T04:54:57.766937Z"
    },
    "papermill": {
     "duration": 8.456867,
     "end_time": "2022-02-14T16:30:39.896684",
     "exception": false,
     "start_time": "2022-02-14T16:30:31.439817",
     "status": "completed"
    },
    "scrolled": true,
    "tags": []
   },
   "outputs": [
    {
     "name": "stdout",
     "output_type": "stream",
     "text": [
      "(2827876, 78)\n",
      "number of labels: 9\n",
      "instances per label\n",
      " BENIGN          2271320\n",
      "DoS              251712\n",
      "PortScan         158804\n",
      "DDoS             128025\n",
      "Brute Force       13832\n",
      "Web Attack         2180\n",
      "Bot                1956\n",
      "Infiltration         36\n",
      "Heartbleed           11\n",
      "Name: Label, dtype: int64\n",
      "labels: ['BENIGN' 'DDoS' 'PortScan' 'Bot' 'Infiltration' 'Web Attack'\n",
      " 'Brute Force' 'DoS' 'Heartbleed']\n",
      "after spliting the data:\n",
      "\n",
      "training data length: 2120907\n",
      "test data length: 706969\n"
     ]
    }
   ],
   "source": [
    "# data split\n",
    "from sklearn.model_selection import train_test_split\n",
    "from collections import Counter\n",
    "y = df_experiment.Label\n",
    "X = df_experiment.drop(columns='Label')\n",
    "labels = y.unique()\n",
    "\n",
    "classes = y.nunique()\n",
    "print(X.shape)\n",
    "print(\"number of labels:\", classes)\n",
    "print(\"instances per label\\n\", y.value_counts())\n",
    "print(\"labels:\", labels)\n",
    "\n",
    "X_train, X_test, y_train, y_test = train_test_split(X, y, random_state=42, stratify=y)\n",
    "# print(len(df_experiment))\n",
    "# print(df_experiment.Label.nunique())\n",
    "# print(df_experiment.Label.value_counts())\n",
    "print(\"after spliting the data:\\n\")\n",
    "print(\"training data length:\", len(X_train))\n",
    "print(\"test data length:\", len(X_test))\n",
    "# print(y_train.nunique())\n",
    "# print(y_train.value_counts())"
   ]
  },
  {
   "cell_type": "code",
   "execution_count": 9,
   "id": "da4a1103",
   "metadata": {
    "execution": {
     "iopub.execute_input": "2022-02-14T16:30:39.951363Z",
     "iopub.status.busy": "2022-02-14T16:30:39.950771Z",
     "iopub.status.idle": "2022-02-14T16:30:40.732987Z",
     "shell.execute_reply": "2022-02-14T16:30:40.733680Z",
     "shell.execute_reply.started": "2022-02-14T04:55:09.421290Z"
    },
    "papermill": {
     "duration": 0.810884,
     "end_time": "2022-02-14T16:30:40.733899",
     "exception": false,
     "start_time": "2022-02-14T16:30:39.923015",
     "status": "completed"
    },
    "tags": []
   },
   "outputs": [
    {
     "name": "stdout",
     "output_type": "stream",
     "text": [
      "['BENIGN' 'attack']\n",
      "['BENIGN' 'attack']\n"
     ]
    }
   ],
   "source": [
    "### Set a copy for binary classification:\n",
    "class_attack = ['PortScan', 'Web Attack', 'Brute Force', 'DDoS', 'Bot','Infiltration', 'DoS', 'Heartbleed']\n",
    "bi_train_y = y_train.copy()\n",
    "bi_train_y.replace(class_attack, value='attack', inplace=True)\n",
    "print(bi_train_y.unique())\n",
    "# bi_train.head(2)\n",
    "\n",
    "bi_test_y = y_test.copy()\n",
    "bi_test_y.replace(class_attack, value='attack', inplace=True)\n",
    "print(bi_test_y.unique())\n",
    "# bi_train.head(2)\n",
    "\n",
    "### switch for binary!\n",
    "y_train = bi_train_y\n",
    "y_test = bi_test_y"
   ]
  },
  {
   "cell_type": "code",
   "execution_count": 10,
   "id": "3cd8d726",
   "metadata": {
    "execution": {
     "iopub.execute_input": "2022-02-14T16:30:40.788448Z",
     "iopub.status.busy": "2022-02-14T16:30:40.787872Z",
     "iopub.status.idle": "2022-02-14T16:45:51.440833Z",
     "shell.execute_reply": "2022-02-14T16:45:51.441444Z",
     "shell.execute_reply.started": "2022-02-14T04:55:10.918708Z"
    },
    "papermill": {
     "duration": 910.681409,
     "end_time": "2022-02-14T16:45:51.441789",
     "exception": false,
     "start_time": "2022-02-14T16:30:40.760380",
     "status": "completed"
    },
    "tags": []
   },
   "outputs": [
    {
     "name": "stdout",
     "output_type": "stream",
     "text": [
      "instances per label in training set\n",
      " BENIGN    1703490\n",
      "attack     417417\n",
      "Name: Label, dtype: int64\n",
      "instances per label in test set\n",
      " BENIGN    567830\n",
      "attack    139139\n",
      "Name: Label, dtype: int64\n",
      "(2120907, 78)\n",
      "(706969, 78)\n",
      "{'BENIGN': 0, 'attack': 1}\n"
     ]
    },
    {
     "ename": "ModuleNotFoundError",
     "evalue": "No module named 'imblearn'",
     "output_type": "error",
     "traceback": [
      "\u001b[1;31m---------------------------------------------------------------------------\u001b[0m",
      "\u001b[1;31mModuleNotFoundError\u001b[0m                       Traceback (most recent call last)",
      "\u001b[1;32m~\\AppData\\Local\\Temp\\ipykernel_12244\\1957301676.py\u001b[0m in \u001b[0;36m<module>\u001b[1;34m\u001b[0m\n\u001b[0;32m     18\u001b[0m \u001b[1;33m\u001b[0m\u001b[0m\n\u001b[0;32m     19\u001b[0m \u001b[1;31m### training data sampling\u001b[0m\u001b[1;33m\u001b[0m\u001b[1;33m\u001b[0m\u001b[0m\n\u001b[1;32m---> 20\u001b[1;33m \u001b[1;32mfrom\u001b[0m \u001b[0mimblearn\u001b[0m\u001b[1;33m.\u001b[0m\u001b[0mover_sampling\u001b[0m \u001b[1;32mimport\u001b[0m \u001b[0mSMOTE\u001b[0m\u001b[1;33m\u001b[0m\u001b[1;33m\u001b[0m\u001b[0m\n\u001b[0m\u001b[0;32m     21\u001b[0m \u001b[1;32mfrom\u001b[0m \u001b[0mimblearn\u001b[0m\u001b[1;33m.\u001b[0m\u001b[0munder_sampling\u001b[0m \u001b[1;32mimport\u001b[0m \u001b[0mRandomUnderSampler\u001b[0m\u001b[1;33m\u001b[0m\u001b[1;33m\u001b[0m\u001b[0m\n\u001b[0;32m     22\u001b[0m \u001b[1;32mfrom\u001b[0m \u001b[0mimblearn\u001b[0m\u001b[1;33m.\u001b[0m\u001b[0mpipeline\u001b[0m \u001b[1;32mimport\u001b[0m \u001b[0mPipeline\u001b[0m\u001b[1;33m\u001b[0m\u001b[1;33m\u001b[0m\u001b[0m\n",
      "\u001b[1;31mModuleNotFoundError\u001b[0m: No module named 'imblearn'"
     ]
    }
   ],
   "source": [
    "from sklearn.preprocessing import OneHotEncoder, LabelEncoder, MinMaxScaler\n",
    "# enc = OneHotEncoder(handle_unknown='ignore')\n",
    "scaler = MinMaxScaler()\n",
    "le = LabelEncoder()\n",
    "\n",
    "X_train = scaler.fit_transform(X_train)\n",
    "X_test = scaler.transform(X_test)\n",
    "print(\"instances per label in training set\\n\", y_train.value_counts())\n",
    "y_train = le.fit_transform(y_train)\n",
    "print(\"instances per label in test set\\n\", y_test.value_counts())\n",
    "y_test = le.transform(y_test)\n",
    "\n",
    "print(X_train.shape)\n",
    "print(X_test.shape)\n",
    "labels_dict = dict(zip(le.classes_, range(len(le.classes_))))\n",
    "print(labels_dict)\n",
    "\n",
    "\n",
    "### training data sampling\n",
    "from imblearn.over_sampling import SMOTE\n",
    "from imblearn.under_sampling import RandomUnderSampler\n",
    "from imblearn.pipeline import Pipeline\n",
    "from collections import Counter\n",
    "over = SMOTE(sampling_strategy='not majority', n_jobs=-1)\n",
    "under = RandomUnderSampler(sampling_strategy=\n",
    "                             {labels_dict['BENIGN']:200000})\n",
    "# steps = [('u', under), ('o', over)]\n",
    "steps = [('o', over)]\n",
    "pipeline = Pipeline(steps=steps)\n",
    "X_train, y_train = pipeline.fit_resample(X_train, y_train)\n",
    "counter = Counter(y_train)\n",
    "print(counter)"
   ]
  },
  {
   "cell_type": "code",
   "execution_count": 12,
   "id": "604a94c8",
   "metadata": {
    "execution": {
     "iopub.execute_input": "2022-02-14T16:45:51.503220Z",
     "iopub.status.busy": "2022-02-14T16:45:51.502604Z",
     "iopub.status.idle": "2022-02-14T16:45:51.506006Z",
     "shell.execute_reply": "2022-02-14T16:45:51.506492Z",
     "shell.execute_reply.started": "2022-02-14T05:13:50.045199Z"
    },
    "papermill": {
     "duration": 0.038338,
     "end_time": "2022-02-14T16:45:51.506660",
     "exception": false,
     "start_time": "2022-02-14T16:45:51.468322",
     "status": "completed"
    },
    "tags": []
   },
   "outputs": [
    {
     "data": {
      "text/plain": [
       "(2827876, 78)"
      ]
     },
     "execution_count": 12,
     "metadata": {},
     "output_type": "execute_result"
    }
   ],
   "source": [
    "X.shape"
   ]
  },
  {
   "cell_type": "code",
   "execution_count": 13,
   "id": "5ec5ad90",
   "metadata": {
    "execution": {
     "iopub.execute_input": "2022-02-14T16:45:51.584054Z",
     "iopub.status.busy": "2022-02-14T16:45:51.583345Z",
     "iopub.status.idle": "2022-02-14T16:45:51.589459Z",
     "shell.execute_reply": "2022-02-14T16:45:51.589946Z",
     "shell.execute_reply.started": "2022-02-14T05:13:50.053113Z"
    },
    "papermill": {
     "duration": 0.05627,
     "end_time": "2022-02-14T16:45:51.590109",
     "exception": false,
     "start_time": "2022-02-14T16:45:51.533839",
     "status": "completed"
    },
    "tags": []
   },
   "outputs": [
    {
     "name": "stdout",
     "output_type": "stream",
     "text": [
      "<class 'pandas.core.frame.DataFrame'>\n",
      "Int64Index: 2827876 entries, 0 to 2830742\n",
      "Data columns (total 78 columns):\n",
      " #   Column                       Dtype  \n",
      "---  ------                       -----  \n",
      " 0   Destination Port             int64  \n",
      " 1   Flow Duration                int64  \n",
      " 2   Total Fwd Packets            int64  \n",
      " 3   Total Backward Packets       int64  \n",
      " 4   Total Length of Fwd Packets  int64  \n",
      " 5   Total Length of Bwd Packets  int64  \n",
      " 6   Fwd Packet Length Max        int64  \n",
      " 7   Fwd Packet Length Min        int64  \n",
      " 8   Fwd Packet Length Mean       float64\n",
      " 9   Fwd Packet Length Std        float64\n",
      " 10  Bwd Packet Length Max        int64  \n",
      " 11  Bwd Packet Length Min        int64  \n",
      " 12  Bwd Packet Length Mean       float64\n",
      " 13  Bwd Packet Length Std        float64\n",
      " 14  Flow Bytes/s                 float64\n",
      " 15  Flow Packets/s               float64\n",
      " 16  Flow IAT Mean                float64\n",
      " 17  Flow IAT Std                 float64\n",
      " 18  Flow IAT Max                 int64  \n",
      " 19  Flow IAT Min                 int64  \n",
      " 20  Fwd IAT Total                int64  \n",
      " 21  Fwd IAT Mean                 float64\n",
      " 22  Fwd IAT Std                  float64\n",
      " 23  Fwd IAT Max                  int64  \n",
      " 24  Fwd IAT Min                  int64  \n",
      " 25  Bwd IAT Total                int64  \n",
      " 26  Bwd IAT Mean                 float64\n",
      " 27  Bwd IAT Std                  float64\n",
      " 28  Bwd IAT Max                  int64  \n",
      " 29  Bwd IAT Min                  int64  \n",
      " 30  Fwd PSH Flags                int64  \n",
      " 31  Bwd PSH Flags                int64  \n",
      " 32  Fwd URG Flags                int64  \n",
      " 33  Bwd URG Flags                int64  \n",
      " 34  Fwd Header Length            int64  \n",
      " 35  Bwd Header Length            int64  \n",
      " 36  Fwd Packets/s                float64\n",
      " 37  Bwd Packets/s                float64\n",
      " 38  Min Packet Length            int64  \n",
      " 39  Max Packet Length            int64  \n",
      " 40  Packet Length Mean           float64\n",
      " 41  Packet Length Std            float64\n",
      " 42  Packet Length Variance       float64\n",
      " 43  FIN Flag Count               int64  \n",
      " 44  SYN Flag Count               int64  \n",
      " 45  RST Flag Count               int64  \n",
      " 46  PSH Flag Count               int64  \n",
      " 47  ACK Flag Count               int64  \n",
      " 48  URG Flag Count               int64  \n",
      " 49  CWE Flag Count               int64  \n",
      " 50  ECE Flag Count               int64  \n",
      " 51  Down/Up Ratio                int64  \n",
      " 52  Average Packet Size          float64\n",
      " 53  Avg Fwd Segment Size         float64\n",
      " 54  Avg Bwd Segment Size         float64\n",
      " 55  Fwd Header Length.1          int64  \n",
      " 56  Fwd Avg Bytes/Bulk           int64  \n",
      " 57  Fwd Avg Packets/Bulk         int64  \n",
      " 58  Fwd Avg Bulk Rate            int64  \n",
      " 59  Bwd Avg Bytes/Bulk           int64  \n",
      " 60  Bwd Avg Packets/Bulk         int64  \n",
      " 61  Bwd Avg Bulk Rate            int64  \n",
      " 62  Subflow Fwd Packets          int64  \n",
      " 63  Subflow Fwd Bytes            int64  \n",
      " 64  Subflow Bwd Packets          int64  \n",
      " 65  Subflow Bwd Bytes            int64  \n",
      " 66  Init_Win_bytes_forward       int64  \n",
      " 67  Init_Win_bytes_backward      int64  \n",
      " 68  act_data_pkt_fwd             int64  \n",
      " 69  min_seg_size_forward         int64  \n",
      " 70  Active Mean                  float64\n",
      " 71  Active Std                   float64\n",
      " 72  Active Max                   int64  \n",
      " 73  Active Min                   int64  \n",
      " 74  Idle Mean                    float64\n",
      " 75  Idle Std                     float64\n",
      " 76  Idle Max                     int64  \n",
      " 77  Idle Min                     int64  \n",
      "dtypes: float64(24), int64(54)\n",
      "memory usage: 1.7 GB\n"
     ]
    }
   ],
   "source": [
    "X.info()"
   ]
  },
  {
   "cell_type": "code",
   "execution_count": 14,
   "id": "767325ba",
   "metadata": {
    "execution": {
     "iopub.execute_input": "2022-02-14T16:45:51.648922Z",
     "iopub.status.busy": "2022-02-14T16:45:51.648050Z",
     "iopub.status.idle": "2022-02-14T16:45:57.698598Z",
     "shell.execute_reply": "2022-02-14T16:45:57.697939Z",
     "shell.execute_reply.started": "2022-02-14T05:13:50.083870Z"
    },
    "papermill": {
     "duration": 6.080801,
     "end_time": "2022-02-14T16:45:57.698743",
     "exception": false,
     "start_time": "2022-02-14T16:45:51.617942",
     "status": "completed"
    },
    "tags": []
   },
   "outputs": [
    {
     "data": {
      "text/html": [
       "<div>\n",
       "<style scoped>\n",
       "    .dataframe tbody tr th:only-of-type {\n",
       "        vertical-align: middle;\n",
       "    }\n",
       "\n",
       "    .dataframe tbody tr th {\n",
       "        vertical-align: top;\n",
       "    }\n",
       "\n",
       "    .dataframe thead th {\n",
       "        text-align: right;\n",
       "    }\n",
       "</style>\n",
       "<table border=\"1\" class=\"dataframe\">\n",
       "  <thead>\n",
       "    <tr style=\"text-align: right;\">\n",
       "      <th></th>\n",
       "      <th>Destination Port</th>\n",
       "      <th>Flow Duration</th>\n",
       "      <th>Total Fwd Packets</th>\n",
       "      <th>Total Backward Packets</th>\n",
       "      <th>Total Length of Fwd Packets</th>\n",
       "      <th>Total Length of Bwd Packets</th>\n",
       "      <th>Fwd Packet Length Max</th>\n",
       "      <th>Fwd Packet Length Min</th>\n",
       "      <th>Fwd Packet Length Mean</th>\n",
       "      <th>Fwd Packet Length Std</th>\n",
       "      <th>...</th>\n",
       "      <th>act_data_pkt_fwd</th>\n",
       "      <th>min_seg_size_forward</th>\n",
       "      <th>Active Mean</th>\n",
       "      <th>Active Std</th>\n",
       "      <th>Active Max</th>\n",
       "      <th>Active Min</th>\n",
       "      <th>Idle Mean</th>\n",
       "      <th>Idle Std</th>\n",
       "      <th>Idle Max</th>\n",
       "      <th>Idle Min</th>\n",
       "    </tr>\n",
       "  </thead>\n",
       "  <tbody>\n",
       "    <tr>\n",
       "      <th>count</th>\n",
       "      <td>2.827876e+06</td>\n",
       "      <td>2.827876e+06</td>\n",
       "      <td>2.827876e+06</td>\n",
       "      <td>2.827876e+06</td>\n",
       "      <td>2.827876e+06</td>\n",
       "      <td>2.827876e+06</td>\n",
       "      <td>2.827876e+06</td>\n",
       "      <td>2.827876e+06</td>\n",
       "      <td>2.827876e+06</td>\n",
       "      <td>2.827876e+06</td>\n",
       "      <td>...</td>\n",
       "      <td>2.827876e+06</td>\n",
       "      <td>2.827876e+06</td>\n",
       "      <td>2.827876e+06</td>\n",
       "      <td>2.827876e+06</td>\n",
       "      <td>2.827876e+06</td>\n",
       "      <td>2.827876e+06</td>\n",
       "      <td>2.827876e+06</td>\n",
       "      <td>2.827876e+06</td>\n",
       "      <td>2.827876e+06</td>\n",
       "      <td>2.827876e+06</td>\n",
       "    </tr>\n",
       "    <tr>\n",
       "      <th>mean</th>\n",
       "      <td>8.061534e+03</td>\n",
       "      <td>1.480065e+07</td>\n",
       "      <td>9.368972e+00</td>\n",
       "      <td>1.040396e+01</td>\n",
       "      <td>5.498522e+02</td>\n",
       "      <td>1.617903e+04</td>\n",
       "      <td>2.078044e+02</td>\n",
       "      <td>1.872929e+01</td>\n",
       "      <td>5.825628e+01</td>\n",
       "      <td>6.897811e+01</td>\n",
       "      <td>...</td>\n",
       "      <td>5.423519e+00</td>\n",
       "      <td>-2.744494e+03</td>\n",
       "      <td>8.163400e+04</td>\n",
       "      <td>4.117582e+04</td>\n",
       "      <td>1.533378e+05</td>\n",
       "      <td>5.835492e+04</td>\n",
       "      <td>8.324468e+06</td>\n",
       "      <td>5.043548e+05</td>\n",
       "      <td>8.704568e+06</td>\n",
       "      <td>7.928061e+06</td>\n",
       "    </tr>\n",
       "    <tr>\n",
       "      <th>std</th>\n",
       "      <td>1.827432e+04</td>\n",
       "      <td>3.366750e+07</td>\n",
       "      <td>7.500527e+02</td>\n",
       "      <td>9.978937e+02</td>\n",
       "      <td>9.998639e+03</td>\n",
       "      <td>2.264235e+06</td>\n",
       "      <td>7.175183e+02</td>\n",
       "      <td>6.035533e+01</td>\n",
       "      <td>1.861733e+02</td>\n",
       "      <td>2.813212e+02</td>\n",
       "      <td>...</td>\n",
       "      <td>6.367482e+02</td>\n",
       "      <td>1.085539e+06</td>\n",
       "      <td>6.489234e+05</td>\n",
       "      <td>3.935787e+05</td>\n",
       "      <td>1.026333e+06</td>\n",
       "      <td>5.773818e+05</td>\n",
       "      <td>2.364057e+07</td>\n",
       "      <td>4.605289e+06</td>\n",
       "      <td>2.437766e+07</td>\n",
       "      <td>2.337390e+07</td>\n",
       "    </tr>\n",
       "    <tr>\n",
       "      <th>min</th>\n",
       "      <td>0.000000e+00</td>\n",
       "      <td>-1.300000e+01</td>\n",
       "      <td>1.000000e+00</td>\n",
       "      <td>0.000000e+00</td>\n",
       "      <td>0.000000e+00</td>\n",
       "      <td>0.000000e+00</td>\n",
       "      <td>0.000000e+00</td>\n",
       "      <td>0.000000e+00</td>\n",
       "      <td>0.000000e+00</td>\n",
       "      <td>0.000000e+00</td>\n",
       "      <td>...</td>\n",
       "      <td>0.000000e+00</td>\n",
       "      <td>-5.368707e+08</td>\n",
       "      <td>0.000000e+00</td>\n",
       "      <td>0.000000e+00</td>\n",
       "      <td>0.000000e+00</td>\n",
       "      <td>0.000000e+00</td>\n",
       "      <td>0.000000e+00</td>\n",
       "      <td>0.000000e+00</td>\n",
       "      <td>0.000000e+00</td>\n",
       "      <td>0.000000e+00</td>\n",
       "    </tr>\n",
       "    <tr>\n",
       "      <th>25%</th>\n",
       "      <td>5.300000e+01</td>\n",
       "      <td>1.550000e+02</td>\n",
       "      <td>2.000000e+00</td>\n",
       "      <td>1.000000e+00</td>\n",
       "      <td>1.200000e+01</td>\n",
       "      <td>2.000000e+00</td>\n",
       "      <td>6.000000e+00</td>\n",
       "      <td>0.000000e+00</td>\n",
       "      <td>6.000000e+00</td>\n",
       "      <td>0.000000e+00</td>\n",
       "      <td>...</td>\n",
       "      <td>0.000000e+00</td>\n",
       "      <td>2.000000e+01</td>\n",
       "      <td>0.000000e+00</td>\n",
       "      <td>0.000000e+00</td>\n",
       "      <td>0.000000e+00</td>\n",
       "      <td>0.000000e+00</td>\n",
       "      <td>0.000000e+00</td>\n",
       "      <td>0.000000e+00</td>\n",
       "      <td>0.000000e+00</td>\n",
       "      <td>0.000000e+00</td>\n",
       "    </tr>\n",
       "    <tr>\n",
       "      <th>50%</th>\n",
       "      <td>8.000000e+01</td>\n",
       "      <td>3.133800e+04</td>\n",
       "      <td>2.000000e+00</td>\n",
       "      <td>2.000000e+00</td>\n",
       "      <td>6.200000e+01</td>\n",
       "      <td>1.230000e+02</td>\n",
       "      <td>3.700000e+01</td>\n",
       "      <td>2.000000e+00</td>\n",
       "      <td>3.400000e+01</td>\n",
       "      <td>0.000000e+00</td>\n",
       "      <td>...</td>\n",
       "      <td>1.000000e+00</td>\n",
       "      <td>2.400000e+01</td>\n",
       "      <td>0.000000e+00</td>\n",
       "      <td>0.000000e+00</td>\n",
       "      <td>0.000000e+00</td>\n",
       "      <td>0.000000e+00</td>\n",
       "      <td>0.000000e+00</td>\n",
       "      <td>0.000000e+00</td>\n",
       "      <td>0.000000e+00</td>\n",
       "      <td>0.000000e+00</td>\n",
       "    </tr>\n",
       "    <tr>\n",
       "      <th>75%</th>\n",
       "      <td>4.430000e+02</td>\n",
       "      <td>3.239368e+06</td>\n",
       "      <td>5.000000e+00</td>\n",
       "      <td>4.000000e+00</td>\n",
       "      <td>1.880000e+02</td>\n",
       "      <td>4.840000e+02</td>\n",
       "      <td>8.100000e+01</td>\n",
       "      <td>3.600000e+01</td>\n",
       "      <td>5.000000e+01</td>\n",
       "      <td>2.616295e+01</td>\n",
       "      <td>...</td>\n",
       "      <td>2.000000e+00</td>\n",
       "      <td>3.200000e+01</td>\n",
       "      <td>0.000000e+00</td>\n",
       "      <td>0.000000e+00</td>\n",
       "      <td>0.000000e+00</td>\n",
       "      <td>0.000000e+00</td>\n",
       "      <td>0.000000e+00</td>\n",
       "      <td>0.000000e+00</td>\n",
       "      <td>0.000000e+00</td>\n",
       "      <td>0.000000e+00</td>\n",
       "    </tr>\n",
       "    <tr>\n",
       "      <th>max</th>\n",
       "      <td>6.553500e+04</td>\n",
       "      <td>1.200000e+08</td>\n",
       "      <td>2.197590e+05</td>\n",
       "      <td>2.919220e+05</td>\n",
       "      <td>1.290000e+07</td>\n",
       "      <td>6.554530e+08</td>\n",
       "      <td>2.482000e+04</td>\n",
       "      <td>2.325000e+03</td>\n",
       "      <td>5.940857e+03</td>\n",
       "      <td>7.125597e+03</td>\n",
       "      <td>...</td>\n",
       "      <td>2.135570e+05</td>\n",
       "      <td>1.380000e+02</td>\n",
       "      <td>1.100000e+08</td>\n",
       "      <td>7.420000e+07</td>\n",
       "      <td>1.100000e+08</td>\n",
       "      <td>1.100000e+08</td>\n",
       "      <td>1.200000e+08</td>\n",
       "      <td>7.690000e+07</td>\n",
       "      <td>1.200000e+08</td>\n",
       "      <td>1.200000e+08</td>\n",
       "    </tr>\n",
       "  </tbody>\n",
       "</table>\n",
       "<p>8 rows × 78 columns</p>\n",
       "</div>"
      ],
      "text/plain": [
       "       Destination Port  Flow Duration  Total Fwd Packets  \\\n",
       "count      2.827876e+06   2.827876e+06       2.827876e+06   \n",
       "mean       8.061534e+03   1.480065e+07       9.368972e+00   \n",
       "std        1.827432e+04   3.366750e+07       7.500527e+02   \n",
       "min        0.000000e+00  -1.300000e+01       1.000000e+00   \n",
       "25%        5.300000e+01   1.550000e+02       2.000000e+00   \n",
       "50%        8.000000e+01   3.133800e+04       2.000000e+00   \n",
       "75%        4.430000e+02   3.239368e+06       5.000000e+00   \n",
       "max        6.553500e+04   1.200000e+08       2.197590e+05   \n",
       "\n",
       "       Total Backward Packets  Total Length of Fwd Packets  \\\n",
       "count            2.827876e+06                 2.827876e+06   \n",
       "mean             1.040396e+01                 5.498522e+02   \n",
       "std              9.978937e+02                 9.998639e+03   \n",
       "min              0.000000e+00                 0.000000e+00   \n",
       "25%              1.000000e+00                 1.200000e+01   \n",
       "50%              2.000000e+00                 6.200000e+01   \n",
       "75%              4.000000e+00                 1.880000e+02   \n",
       "max              2.919220e+05                 1.290000e+07   \n",
       "\n",
       "       Total Length of Bwd Packets  Fwd Packet Length Max  \\\n",
       "count                 2.827876e+06           2.827876e+06   \n",
       "mean                  1.617903e+04           2.078044e+02   \n",
       "std                   2.264235e+06           7.175183e+02   \n",
       "min                   0.000000e+00           0.000000e+00   \n",
       "25%                   2.000000e+00           6.000000e+00   \n",
       "50%                   1.230000e+02           3.700000e+01   \n",
       "75%                   4.840000e+02           8.100000e+01   \n",
       "max                   6.554530e+08           2.482000e+04   \n",
       "\n",
       "       Fwd Packet Length Min  Fwd Packet Length Mean  Fwd Packet Length Std  \\\n",
       "count           2.827876e+06            2.827876e+06           2.827876e+06   \n",
       "mean            1.872929e+01            5.825628e+01           6.897811e+01   \n",
       "std             6.035533e+01            1.861733e+02           2.813212e+02   \n",
       "min             0.000000e+00            0.000000e+00           0.000000e+00   \n",
       "25%             0.000000e+00            6.000000e+00           0.000000e+00   \n",
       "50%             2.000000e+00            3.400000e+01           0.000000e+00   \n",
       "75%             3.600000e+01            5.000000e+01           2.616295e+01   \n",
       "max             2.325000e+03            5.940857e+03           7.125597e+03   \n",
       "\n",
       "       ...  act_data_pkt_fwd  min_seg_size_forward   Active Mean  \\\n",
       "count  ...      2.827876e+06          2.827876e+06  2.827876e+06   \n",
       "mean   ...      5.423519e+00         -2.744494e+03  8.163400e+04   \n",
       "std    ...      6.367482e+02          1.085539e+06  6.489234e+05   \n",
       "min    ...      0.000000e+00         -5.368707e+08  0.000000e+00   \n",
       "25%    ...      0.000000e+00          2.000000e+01  0.000000e+00   \n",
       "50%    ...      1.000000e+00          2.400000e+01  0.000000e+00   \n",
       "75%    ...      2.000000e+00          3.200000e+01  0.000000e+00   \n",
       "max    ...      2.135570e+05          1.380000e+02  1.100000e+08   \n",
       "\n",
       "         Active Std    Active Max    Active Min     Idle Mean      Idle Std  \\\n",
       "count  2.827876e+06  2.827876e+06  2.827876e+06  2.827876e+06  2.827876e+06   \n",
       "mean   4.117582e+04  1.533378e+05  5.835492e+04  8.324468e+06  5.043548e+05   \n",
       "std    3.935787e+05  1.026333e+06  5.773818e+05  2.364057e+07  4.605289e+06   \n",
       "min    0.000000e+00  0.000000e+00  0.000000e+00  0.000000e+00  0.000000e+00   \n",
       "25%    0.000000e+00  0.000000e+00  0.000000e+00  0.000000e+00  0.000000e+00   \n",
       "50%    0.000000e+00  0.000000e+00  0.000000e+00  0.000000e+00  0.000000e+00   \n",
       "75%    0.000000e+00  0.000000e+00  0.000000e+00  0.000000e+00  0.000000e+00   \n",
       "max    7.420000e+07  1.100000e+08  1.100000e+08  1.200000e+08  7.690000e+07   \n",
       "\n",
       "           Idle Max      Idle Min  \n",
       "count  2.827876e+06  2.827876e+06  \n",
       "mean   8.704568e+06  7.928061e+06  \n",
       "std    2.437766e+07  2.337390e+07  \n",
       "min    0.000000e+00  0.000000e+00  \n",
       "25%    0.000000e+00  0.000000e+00  \n",
       "50%    0.000000e+00  0.000000e+00  \n",
       "75%    0.000000e+00  0.000000e+00  \n",
       "max    1.200000e+08  1.200000e+08  \n",
       "\n",
       "[8 rows x 78 columns]"
      ]
     },
     "execution_count": 14,
     "metadata": {},
     "output_type": "execute_result"
    }
   ],
   "source": [
    "X.describe()"
   ]
  },
  {
   "cell_type": "code",
   "execution_count": 15,
   "id": "80d98925",
   "metadata": {
    "execution": {
     "iopub.execute_input": "2022-02-14T16:45:57.759298Z",
     "iopub.status.busy": "2022-02-14T16:45:57.758538Z",
     "iopub.status.idle": "2022-02-14T16:45:57.761579Z",
     "shell.execute_reply": "2022-02-14T16:45:57.760960Z",
     "shell.execute_reply.started": "2022-02-14T05:13:57.390740Z"
    },
    "papermill": {
     "duration": 0.035129,
     "end_time": "2022-02-14T16:45:57.761717",
     "exception": false,
     "start_time": "2022-02-14T16:45:57.726588",
     "status": "completed"
    },
    "tags": []
   },
   "outputs": [],
   "source": [
    "# Autoencoder model to extract latent features\n",
    "\n",
    "# from tensorflow.keras import Model, Sequential, Input\n",
    "# from tensorflow.keras.layers import Dense\n",
    "# from tensorflow.keras.callbacks import EarlyStopping\n",
    "# callback = EarlyStopping(patience=3, mode='min')\n",
    "\n",
    "# input_shape = X_train.shape[1]\n",
    "# print(f\"input shape: {input_shape}\")\n",
    "# encoding_dim = 10\n",
    "# encoder = Sequential([\n",
    "#     Dense(32, activation='relu', input_shape=(input_shape, )),\n",
    "#     Dense(encoding_dim, activation='relu')\n",
    "# ])\n",
    "# decoder = Sequential([\n",
    "#     Dense(32, activation='relu', input_shape=(encoding_dim,)),\n",
    "#     Dense(input_shape)\n",
    "# ])\n",
    "# autoencoder = Sequential([encoder, decoder])\n",
    "# autoencoder.compile(loss='mse', optimizer='Adam')\n",
    "# history = autoencoder.fit(X_train, X_train, batch_size=64,\n",
    "#                           epochs=20, validation_split=0.2)"
   ]
  },
  {
   "cell_type": "code",
   "execution_count": 16,
   "id": "22b4fc5e",
   "metadata": {
    "execution": {
     "iopub.execute_input": "2022-02-14T16:45:57.822769Z",
     "iopub.status.busy": "2022-02-14T16:45:57.822047Z",
     "iopub.status.idle": "2022-02-14T16:45:57.824518Z",
     "shell.execute_reply": "2022-02-14T16:45:57.824932Z",
     "shell.execute_reply.started": "2022-02-14T05:13:57.396965Z"
    },
    "papermill": {
     "duration": 0.035499,
     "end_time": "2022-02-14T16:45:57.825095",
     "exception": false,
     "start_time": "2022-02-14T16:45:57.789596",
     "status": "completed"
    },
    "tags": []
   },
   "outputs": [],
   "source": [
    "# X_train_encode = encoder.predict(X_train)\n",
    "# X_test_encode = encoder.predict(X_test)"
   ]
  },
  {
   "cell_type": "code",
   "execution_count": 17,
   "id": "65e79ea9",
   "metadata": {
    "execution": {
     "iopub.execute_input": "2022-02-14T16:45:57.883472Z",
     "iopub.status.busy": "2022-02-14T16:45:57.882850Z",
     "iopub.status.idle": "2022-02-14T16:45:57.885893Z",
     "shell.execute_reply": "2022-02-14T16:45:57.886349Z",
     "shell.execute_reply.started": "2022-02-14T05:13:57.415209Z"
    },
    "papermill": {
     "duration": 0.033792,
     "end_time": "2022-02-14T16:45:57.886506",
     "exception": false,
     "start_time": "2022-02-14T16:45:57.852714",
     "status": "completed"
    },
    "tags": []
   },
   "outputs": [],
   "source": [
    "# from sklearn.decomposition import PCA\n",
    "# import matplotlib.pyplot as plt\n",
    "# import seaborn as sns\n",
    "# from sklearn.utils import resample\n",
    "# %matplotlib inline\n",
    "\n",
    "# X_train_pca, y_train_pca = resample(\n",
    "#     X_train, y_train, n_samples=30000, random_state=42, stratify=y_train)\n",
    "# pca = PCA(n_components=2)\n",
    "# projected = pca.fit_transform(X_train_pca)\n",
    "# fig, ax = plt.subplots(figsize=(10,6))\n",
    "# scat = ax.scatter(projected[:, 0], projected[:, 1],\n",
    "#             c=y_train_pca, edgecolor='none', cmap=\"Paired\", alpha=0.7)\n",
    "# plt.legend(handles=scat.legend_elements()[0], labels=list(le.classes_), loc=\"upper left\", title=\"Classes\")\n",
    "# plt.axis('off')\n",
    "# plt.title(\"PCA at latent space of CIC-IDS2017 training set\")\n",
    "# plt.show()"
   ]
  },
  {
   "cell_type": "code",
   "execution_count": 18,
   "id": "cfce3b7b",
   "metadata": {
    "execution": {
     "iopub.execute_input": "2022-02-14T16:45:57.947444Z",
     "iopub.status.busy": "2022-02-14T16:45:57.946428Z",
     "iopub.status.idle": "2022-02-14T16:45:57.948520Z",
     "shell.execute_reply": "2022-02-14T16:45:57.948995Z",
     "shell.execute_reply.started": "2022-02-14T05:13:57.432513Z"
    },
    "papermill": {
     "duration": 0.034589,
     "end_time": "2022-02-14T16:45:57.949160",
     "exception": false,
     "start_time": "2022-02-14T16:45:57.914571",
     "status": "completed"
    },
    "tags": []
   },
   "outputs": [],
   "source": [
    "# X_test_pca, y_test_pca = resample(\n",
    "#     X_test, y_test, n_samples=100000, random_state=42, stratify=y_test)\n",
    "# pca = PCA(n_components=2)\n",
    "# projected = pca.fit_transform(X_test_pca)\n",
    "# fig, ax = plt.subplots(figsize=(10,6))\n",
    "# scat = ax.scatter(projected[:, 0], projected[:, 1],\n",
    "#             c=y_test_pca, edgecolor='none', cmap=\"Paired\", alpha=0.7)\n",
    "# plt.legend(handles=scat.legend_elements()[0], labels=list(le.classes_), loc=\"upper left\", title=\"Classes\")\n",
    "# plt.axis('off')\n",
    "# plt.title(\"PCA at latent space of CIC-IDS2017 test set\")\n",
    "# plt.show()"
   ]
  },
  {
   "cell_type": "markdown",
   "id": "2c43142c",
   "metadata": {
    "papermill": {
     "duration": 0.027075,
     "end_time": "2022-02-14T16:45:58.005506",
     "exception": false,
     "start_time": "2022-02-14T16:45:57.978431",
     "status": "completed"
    },
    "tags": []
   },
   "source": [
    "## Feature selection:"
   ]
  },
  {
   "cell_type": "markdown",
   "id": "f8d89e18",
   "metadata": {
    "papermill": {
     "duration": 0.027002,
     "end_time": "2022-02-14T16:45:58.059883",
     "exception": false,
     "start_time": "2022-02-14T16:45:58.032881",
     "status": "completed"
    },
    "tags": []
   },
   "source": [
    "### ANOVA f-value"
   ]
  },
  {
   "cell_type": "code",
   "execution_count": 19,
   "id": "8c7d9558",
   "metadata": {
    "execution": {
     "iopub.execute_input": "2022-02-14T16:45:58.118020Z",
     "iopub.status.busy": "2022-02-14T16:45:58.117089Z",
     "iopub.status.idle": "2022-02-14T16:46:04.909314Z",
     "shell.execute_reply": "2022-02-14T16:46:04.910123Z",
     "shell.execute_reply.started": "2022-02-14T05:13:57.445037Z"
    },
    "papermill": {
     "duration": 6.823212,
     "end_time": "2022-02-14T16:46:04.910381",
     "exception": false,
     "start_time": "2022-02-14T16:45:58.087169",
     "status": "completed"
    },
    "tags": []
   },
   "outputs": [
    {
     "name": "stderr",
     "output_type": "stream",
     "text": [
      "/opt/conda/lib/python3.7/site-packages/sklearn/feature_selection/_univariate_selection.py:115: UserWarning: Features [31 33 56 57 58 59 60 61] are constant.\n",
      "  UserWarning)\n",
      "/opt/conda/lib/python3.7/site-packages/sklearn/feature_selection/_univariate_selection.py:116: RuntimeWarning: invalid value encountered in true_divide\n",
      "  f = msb / msw\n",
      "/opt/conda/lib/python3.7/site-packages/sklearn/feature_selection/_univariate_selection.py:115: UserWarning: Features [31 33 56 57 58 59 60 61] are constant.\n",
      "  UserWarning)\n",
      "/opt/conda/lib/python3.7/site-packages/sklearn/feature_selection/_univariate_selection.py:116: RuntimeWarning: invalid value encountered in true_divide\n",
      "  f = msb / msw\n"
     ]
    }
   ],
   "source": [
    "### transform ndarray into dataframe type for later operation.\n",
    "X_train = pd.DataFrame(X_train)\n",
    "X_test = pd.DataFrame(X_test)\n",
    "\n",
    "from sklearn.feature_selection import f_classif\n",
    "### Compute the ANOVA F-value \n",
    "f_value = f_classif(X_train, y_train)\n",
    "\n",
    "# f_value = pd.Series(f_value)\n",
    "# f_value.index = X_train.columns\n",
    "# f_value.sort_values(ascending=False)\n",
    "\n",
    "# ### plot the ordered f_value per feature\n",
    "# f_value.sort_values(ascending=False).plot.bar(figsize=(20, 8))\n",
    "\n",
    "### Now we select the top 10 important features based on the result above.\n",
    "from sklearn.feature_selection import SelectKBest\n",
    "sel_top_cols = SelectKBest(f_classif, k=10)\n",
    "sel_top_cols.fit(X_train, y_train)\n",
    "X_train.columns[sel_top_cols.get_support()]\n",
    "\n",
    "### transform ndarray back:\n",
    "X_train = X_train.values\n",
    "X_test = X_test.values"
   ]
  },
  {
   "cell_type": "markdown",
   "id": "6264cd9a",
   "metadata": {
    "papermill": {
     "duration": 0.027443,
     "end_time": "2022-02-14T16:46:04.966801",
     "exception": false,
     "start_time": "2022-02-14T16:46:04.939358",
     "status": "completed"
    },
    "tags": []
   },
   "source": [
    "## Classification Model---LSTM "
   ]
  },
  {
   "cell_type": "code",
   "execution_count": 20,
   "id": "5cfda7e7",
   "metadata": {
    "execution": {
     "iopub.execute_input": "2022-02-14T16:46:05.026291Z",
     "iopub.status.busy": "2022-02-14T16:46:05.025658Z",
     "iopub.status.idle": "2022-02-14T16:46:05.030777Z",
     "shell.execute_reply": "2022-02-14T16:46:05.031234Z",
     "shell.execute_reply.started": "2022-02-14T05:13:57.457794Z"
    },
    "papermill": {
     "duration": 0.036828,
     "end_time": "2022-02-14T16:46:05.031434",
     "exception": false,
     "start_time": "2022-02-14T16:46:04.994606",
     "status": "completed"
    },
    "tags": []
   },
   "outputs": [
    {
     "name": "stdout",
     "output_type": "stream",
     "text": [
      "shape of X_train: (3406980, 1, 78)\n",
      "shape of X_test: (706969, 1, 78)\n"
     ]
    }
   ],
   "source": [
    "### reshape input data to LSTM format [samples, time_steps, features]\n",
    "X_train_lstm = X_train.reshape(X_train.shape[0], 1, X_train.shape[1])\n",
    "X_test_lstm = X_test.reshape(X_test.shape[0], 1, X_test.shape[1])\n",
    "print(f\"shape of X_train:\", X_train_lstm.shape)\n",
    "print(f\"shape of X_test:\", X_test_lstm.shape)"
   ]
  },
  {
   "cell_type": "code",
   "execution_count": 21,
   "id": "1301b29e",
   "metadata": {
    "execution": {
     "iopub.execute_input": "2022-02-14T16:46:05.095741Z",
     "iopub.status.busy": "2022-02-14T16:46:05.095057Z",
     "iopub.status.idle": "2022-02-14T16:46:11.468271Z",
     "shell.execute_reply": "2022-02-14T16:46:11.467477Z",
     "shell.execute_reply.started": "2022-02-14T05:13:57.475352Z"
    },
    "papermill": {
     "duration": 6.408737,
     "end_time": "2022-02-14T16:46:11.468472",
     "exception": false,
     "start_time": "2022-02-14T16:46:05.059735",
     "status": "completed"
    },
    "tags": []
   },
   "outputs": [
    {
     "name": "stdout",
     "output_type": "stream",
     "text": [
      "num of classes:2\n"
     ]
    }
   ],
   "source": [
    "from tensorflow.keras import Model, Sequential, Input, backend\n",
    "from tensorflow.keras.layers import LSTM, Dense, Dropout\n",
    "from tensorflow.keras.callbacks import EarlyStopping\n",
    "\n",
    "n_classes = len(le.classes_)\n",
    "print(f\"num of classes:{n_classes}\")\n",
    "n_features = X_train_lstm.shape[2]\n",
    "def multiClassModel(n_features, n_classes=9):\n",
    "    model = Sequential()\n",
    "    model.add(Input(shape=(None, n_features)))\n",
    "    model.add(LSTM(units=30))\n",
    "    model.add(Dropout(0.2))\n",
    "    model.add(Dense(n_classes, activation=\"softmax\", name=\"softmax\"))\n",
    "    model.compile(loss=\"sparse_categorical_crossentropy\", optimizer='Adam')\n",
    "    model.summary()\n",
    "    return model"
   ]
  },
  {
   "cell_type": "code",
   "execution_count": 22,
   "id": "461a7598",
   "metadata": {
    "execution": {
     "iopub.execute_input": "2022-02-14T16:46:11.530223Z",
     "iopub.status.busy": "2022-02-14T16:46:11.529636Z",
     "iopub.status.idle": "2022-02-14T18:47:36.380902Z",
     "shell.execute_reply": "2022-02-14T18:47:36.264833Z",
     "shell.execute_reply.started": "2022-02-14T05:14:03.195529Z"
    },
    "papermill": {
     "duration": 7284.882698,
     "end_time": "2022-02-14T18:47:36.381193",
     "exception": false,
     "start_time": "2022-02-14T16:46:11.498495",
     "status": "completed"
    },
    "tags": []
   },
   "outputs": [
    {
     "name": "stderr",
     "output_type": "stream",
     "text": [
      "\n",
      "User settings:\n",
      "\n",
      "   KMP_AFFINITY=granularity=fine,noverbose,compact,1,0\n",
      "   KMP_BLOCKTIME=0\n",
      "   KMP_DUPLICATE_LIB_OK=True\n",
      "   KMP_INIT_AT_FORK=FALSE\n",
      "   KMP_SETTINGS=1\n",
      "   KMP_WARNINGS=0\n",
      "\n",
      "Effective settings:\n",
      "\n",
      "   KMP_ABORT_DELAY=0\n",
      "   KMP_ADAPTIVE_LOCK_PROPS='1,1024'\n",
      "   KMP_ALIGN_ALLOC=64\n",
      "   KMP_ALL_THREADPRIVATE=128\n",
      "   KMP_ATOMIC_MODE=2\n",
      "   KMP_BLOCKTIME=0\n",
      "   KMP_CPUINFO_FILE: value is not defined\n",
      "   KMP_DETERMINISTIC_REDUCTION=false\n",
      "   KMP_DEVICE_THREAD_LIMIT=2147483647\n",
      "   KMP_DISP_NUM_BUFFERS=7\n",
      "   KMP_DUPLICATE_LIB_OK=true\n",
      "   KMP_ENABLE_TASK_THROTTLING=true\n",
      "   KMP_FORCE_REDUCTION: value is not defined\n",
      "   KMP_FOREIGN_THREADS_THREADPRIVATE=true\n",
      "   KMP_FORKJOIN_BARRIER='2,2'\n",
      "   KMP_FORKJOIN_BARRIER_PATTERN='hyper,hyper'\n",
      "   KMP_GTID_MODE=3\n",
      "   KMP_HANDLE_SIGNALS=false\n",
      "   KMP_HOT_TEAMS_MAX_LEVEL=1\n",
      "   KMP_HOT_TEAMS_MODE=0\n",
      "   KMP_INIT_AT_FORK=true\n",
      "   KMP_LIBRARY=throughput\n",
      "   KMP_LOCK_KIND=queuing\n",
      "   KMP_MALLOC_POOL_INCR=1M\n",
      "   KMP_NUM_LOCKS_IN_BLOCK=1\n",
      "   KMP_PLAIN_BARRIER='2,2'\n",
      "   KMP_PLAIN_BARRIER_PATTERN='hyper,hyper'\n",
      "   KMP_REDUCTION_BARRIER='1,1'\n",
      "   KMP_REDUCTION_BARRIER_PATTERN='hyper,hyper'\n",
      "   KMP_SCHEDULE='static,balanced;guided,iterative'\n",
      "   KMP_SETTINGS=true\n",
      "   KMP_SPIN_BACKOFF_PARAMS='4096,100'\n",
      "   KMP_STACKOFFSET=64\n",
      "   KMP_STACKPAD=0\n",
      "   KMP_STACKSIZE=8M\n",
      "   KMP_STORAGE_MAP=false\n",
      "   KMP_TASKING=2\n",
      "   KMP_TASKLOOP_MIN_TASKS=0\n",
      "   KMP_TASK_STEALING_CONSTRAINT=1\n",
      "   KMP_TEAMS_THREAD_LIMIT=4\n",
      "   KMP_TOPOLOGY_METHOD=all\n",
      "   KMP_USE_YIELD=1\n",
      "   KMP_VERSION=false\n",
      "   KMP_WARNINGS=false\n",
      "   OMP_AFFINITY_FORMAT='OMP: pid %P tid %i thread %n bound to OS proc set {%A}'\n",
      "   OMP_ALLOCATOR=omp_default_mem_alloc\n",
      "   OMP_CANCELLATION=false\n",
      "   OMP_DEFAULT_DEVICE=0\n",
      "   OMP_DISPLAY_AFFINITY=false\n",
      "   OMP_DISPLAY_ENV=false\n",
      "   OMP_DYNAMIC=false\n",
      "   OMP_MAX_ACTIVE_LEVELS=1\n",
      "   OMP_MAX_TASK_PRIORITY=0\n",
      "   OMP_NESTED: deprecated; max-active-levels-var=1\n",
      "   OMP_NUM_THREADS: value is not defined\n",
      "   OMP_PLACES: value is not defined\n",
      "   OMP_PROC_BIND='intel'\n",
      "   OMP_SCHEDULE='static'\n",
      "   OMP_STACKSIZE=8M\n",
      "   OMP_TARGET_OFFLOAD=DEFAULT\n",
      "   OMP_THREAD_LIMIT=2147483647\n",
      "   OMP_WAIT_POLICY=PASSIVE\n",
      "   KMP_AFFINITY='noverbose,warnings,respect,granularity=fine,compact,1,0'\n",
      "\n",
      "2022-02-14 16:46:11.579369: I tensorflow/core/common_runtime/process_util.cc:146] Creating new thread pool with default inter op setting: 2. Tune using inter_op_parallelism_threads for best performance.\n"
     ]
    },
    {
     "name": "stdout",
     "output_type": "stream",
     "text": [
      "Model: \"sequential\"\n",
      "_________________________________________________________________\n",
      "Layer (type)                 Output Shape              Param #   \n",
      "=================================================================\n",
      "lstm (LSTM)                  (None, 30)                13080     \n",
      "_________________________________________________________________\n",
      "dropout (Dropout)            (None, 30)                0         \n",
      "_________________________________________________________________\n",
      "softmax (Dense)              (None, 2)                 62        \n",
      "=================================================================\n",
      "Total params: 13,142\n",
      "Trainable params: 13,142\n",
      "Non-trainable params: 0\n",
      "_________________________________________________________________\n"
     ]
    },
    {
     "name": "stderr",
     "output_type": "stream",
     "text": [
      "2022-02-14 16:46:13.921005: I tensorflow/compiler/mlir/mlir_graph_optimization_pass.cc:185] None of the MLIR Optimization Passes are enabled (registered 2)\n"
     ]
    },
    {
     "name": "stdout",
     "output_type": "stream",
     "text": [
      "Epoch 1/200\n",
      "42588/42588 [==============================] - 111s 3ms/step - loss: 0.1104 - val_loss: 0.0807\n",
      "Epoch 2/200\n",
      "42588/42588 [==============================] - 108s 3ms/step - loss: 0.0711 - val_loss: 0.0633\n",
      "Epoch 3/200\n",
      "42588/42588 [==============================] - 115s 3ms/step - loss: 0.0622 - val_loss: 0.0798\n",
      "Epoch 4/200\n",
      "42588/42588 [==============================] - 117s 3ms/step - loss: 0.0584 - val_loss: 0.0461\n",
      "Epoch 5/200\n",
      "42588/42588 [==============================] - 115s 3ms/step - loss: 0.0558 - val_loss: 0.0648\n",
      "Epoch 6/200\n",
      "42588/42588 [==============================] - 136s 3ms/step - loss: 0.0536 - val_loss: 0.0536\n",
      "Epoch 7/200\n",
      "42588/42588 [==============================] - 133s 3ms/step - loss: 0.0516 - val_loss: 0.0686\n",
      "Epoch 8/200\n",
      "42588/42588 [==============================] - 127s 3ms/step - loss: 0.0501 - val_loss: 0.0337\n",
      "Epoch 9/200\n",
      "42588/42588 [==============================] - 127s 3ms/step - loss: 0.0489 - val_loss: 0.0534\n",
      "Epoch 10/200\n",
      "42588/42588 [==============================] - 135s 3ms/step - loss: 0.0479 - val_loss: 0.0623\n",
      "Epoch 11/200\n",
      "42588/42588 [==============================] - 126s 3ms/step - loss: 0.0472 - val_loss: 0.0561\n",
      "Epoch 12/200\n",
      "42588/42588 [==============================] - 129s 3ms/step - loss: 0.0466 - val_loss: 0.0481\n",
      "Epoch 13/200\n",
      "42588/42588 [==============================] - 125s 3ms/step - loss: 0.0458 - val_loss: 0.0431\n",
      "Epoch 14/200\n",
      "42588/42588 [==============================] - 123s 3ms/step - loss: 0.0452 - val_loss: 0.0412\n",
      "Epoch 15/200\n",
      "42588/42588 [==============================] - 118s 3ms/step - loss: 0.0444 - val_loss: 0.0425\n",
      "Epoch 16/200\n",
      "42588/42588 [==============================] - 125s 3ms/step - loss: 0.0435 - val_loss: 0.0469\n",
      "Epoch 17/200\n",
      "42588/42588 [==============================] - 123s 3ms/step - loss: 0.0424 - val_loss: 0.0395\n",
      "Epoch 18/200\n",
      "42588/42588 [==============================] - 117s 3ms/step - loss: 0.0413 - val_loss: 0.0607\n",
      "Epoch 19/200\n",
      "42588/42588 [==============================] - 113s 3ms/step - loss: 0.0397 - val_loss: 0.0398\n",
      "Epoch 20/200\n",
      "42588/42588 [==============================] - 113s 3ms/step - loss: 0.0376 - val_loss: 0.0210\n",
      "Epoch 21/200\n",
      "42588/42588 [==============================] - 112s 3ms/step - loss: 0.0353 - val_loss: 0.0314\n",
      "Epoch 22/200\n",
      "42588/42588 [==============================] - 108s 3ms/step - loss: 0.0329 - val_loss: 0.0303\n",
      "Epoch 23/200\n",
      "42588/42588 [==============================] - 109s 3ms/step - loss: 0.0308 - val_loss: 0.0543\n",
      "Epoch 24/200\n",
      "42588/42588 [==============================] - 106s 2ms/step - loss: 0.0291 - val_loss: 0.0220\n",
      "Epoch 25/200\n",
      "42588/42588 [==============================] - 108s 3ms/step - loss: 0.0274 - val_loss: 0.0294\n",
      "Epoch 26/200\n",
      "42588/42588 [==============================] - 105s 2ms/step - loss: 0.0264 - val_loss: 0.0149\n",
      "Epoch 27/200\n",
      "42588/42588 [==============================] - 103s 2ms/step - loss: 0.0257 - val_loss: 0.0245\n",
      "Epoch 28/200\n",
      "42588/42588 [==============================] - 101s 2ms/step - loss: 0.0250 - val_loss: 0.0250\n",
      "Epoch 29/200\n",
      "42588/42588 [==============================] - 102s 2ms/step - loss: 0.0244 - val_loss: 0.0389\n",
      "Epoch 30/200\n",
      "42588/42588 [==============================] - 103s 2ms/step - loss: 0.0238 - val_loss: 0.0174\n",
      "Epoch 31/200\n",
      "42588/42588 [==============================] - 102s 2ms/step - loss: 0.0236 - val_loss: 0.0319\n",
      "Epoch 32/200\n",
      "42588/42588 [==============================] - 101s 2ms/step - loss: 0.0231 - val_loss: 0.0418\n",
      "Epoch 33/200\n",
      "42588/42588 [==============================] - 102s 2ms/step - loss: 0.0229 - val_loss: 0.0144\n",
      "Epoch 34/200\n",
      "42588/42588 [==============================] - 103s 2ms/step - loss: 0.0225 - val_loss: 0.0249\n",
      "Epoch 35/200\n",
      "42588/42588 [==============================] - 101s 2ms/step - loss: 0.0222 - val_loss: 0.0179\n",
      "Epoch 36/200\n",
      "42588/42588 [==============================] - 102s 2ms/step - loss: 0.0220 - val_loss: 0.0340\n",
      "Epoch 37/200\n",
      "42588/42588 [==============================] - 102s 2ms/step - loss: 0.0218 - val_loss: 0.0235\n",
      "Epoch 38/200\n",
      "42588/42588 [==============================] - 101s 2ms/step - loss: 0.0214 - val_loss: 0.0172\n",
      "Epoch 39/200\n",
      "42588/42588 [==============================] - 105s 2ms/step - loss: 0.0212 - val_loss: 0.0157\n",
      "Epoch 40/200\n",
      "42588/42588 [==============================] - 103s 2ms/step - loss: 0.0209 - val_loss: 0.0997\n",
      "Epoch 41/200\n",
      "42588/42588 [==============================] - 101s 2ms/step - loss: 0.0209 - val_loss: 0.0182\n",
      "Epoch 42/200\n",
      "42588/42588 [==============================] - 100s 2ms/step - loss: 0.0208 - val_loss: 0.0133\n",
      "Epoch 43/200\n",
      "42588/42588 [==============================] - 102s 2ms/step - loss: 0.0203 - val_loss: 0.0165\n",
      "Epoch 44/200\n",
      "42588/42588 [==============================] - 100s 2ms/step - loss: 0.0202 - val_loss: 0.0286\n",
      "Epoch 45/200\n",
      "42588/42588 [==============================] - 102s 2ms/step - loss: 0.0200 - val_loss: 0.0252\n",
      "Epoch 46/200\n",
      "42588/42588 [==============================] - 101s 2ms/step - loss: 0.0200 - val_loss: 0.0122\n",
      "Epoch 47/200\n",
      "42588/42588 [==============================] - 111s 3ms/step - loss: 0.0197 - val_loss: 0.0097\n",
      "Epoch 48/200\n",
      "42588/42588 [==============================] - 112s 3ms/step - loss: 0.0196 - val_loss: 0.0172\n",
      "Epoch 49/200\n",
      "42588/42588 [==============================] - 102s 2ms/step - loss: 0.0193 - val_loss: 0.0151\n",
      "Epoch 50/200\n",
      "42588/42588 [==============================] - 100s 2ms/step - loss: 0.0192 - val_loss: 0.0152\n",
      "Epoch 51/200\n",
      "42588/42588 [==============================] - 102s 2ms/step - loss: 0.0195 - val_loss: 0.0131\n",
      "Epoch 52/200\n",
      "42588/42588 [==============================] - 99s 2ms/step - loss: 0.0190 - val_loss: 0.0121\n",
      "Epoch 53/200\n",
      "42588/42588 [==============================] - 102s 2ms/step - loss: 0.0188 - val_loss: 0.0224\n",
      "Epoch 54/200\n",
      "42588/42588 [==============================] - 100s 2ms/step - loss: 0.0186 - val_loss: 0.0164\n",
      "Epoch 55/200\n",
      "42588/42588 [==============================] - 100s 2ms/step - loss: 0.0186 - val_loss: 0.0145\n",
      "Epoch 56/200\n",
      "42588/42588 [==============================] - 103s 2ms/step - loss: 0.0185 - val_loss: 0.0181\n",
      "Epoch 57/200\n",
      "42588/42588 [==============================] - 100s 2ms/step - loss: 0.0183 - val_loss: 0.0132\n",
      "Epoch 58/200\n",
      "42588/42588 [==============================] - 100s 2ms/step - loss: 0.0184 - val_loss: 0.0119\n",
      "Epoch 59/200\n",
      "42588/42588 [==============================] - 103s 2ms/step - loss: 0.0182 - val_loss: 0.0156\n",
      "Epoch 60/200\n",
      "42588/42588 [==============================] - 100s 2ms/step - loss: 0.0182 - val_loss: 0.0099\n",
      "Epoch 61/200\n",
      "42588/42588 [==============================] - 100s 2ms/step - loss: 0.0180 - val_loss: 0.0170\n",
      "Epoch 62/200\n",
      "42588/42588 [==============================] - 104s 2ms/step - loss: 0.0181 - val_loss: 0.0111\n",
      "Epoch 63/200\n",
      "42588/42588 [==============================] - 100s 2ms/step - loss: 0.0179 - val_loss: 0.0134\n",
      "Epoch 64/200\n",
      "42588/42588 [==============================] - 100s 2ms/step - loss: 0.0178 - val_loss: 0.0171\n",
      "Epoch 65/200\n",
      "42588/42588 [==============================] - 103s 2ms/step - loss: 0.0178 - val_loss: 0.0118\n",
      "Epoch 66/200\n",
      "42588/42588 [==============================] - 100s 2ms/step - loss: 0.0177 - val_loss: 0.0137\n",
      "Epoch 67/200\n",
      "42588/42588 [==============================] - 101s 2ms/step - loss: 0.0175 - val_loss: 0.0113\n"
     ]
    },
    {
     "data": {
      "image/png": "[encoded data removed]",
      "text/plain": [
       "<Figure size 576x432 with 1 Axes>"
      ]
     },
     "metadata": {
      "needs_background": "light"
     },
     "output_type": "display_data"
    }
   ],
   "source": [
    "# from keras.callbacks import EarlyStopping\n",
    "callback = EarlyStopping(patience=20, mode='min', restore_best_weights=True)\n",
    "backend.clear_session()\n",
    "model = multiClassModel(n_features, n_classes)\n",
    "history = model.fit(X_train_lstm, y_train, \n",
    "                    epochs=200, batch_size=64, validation_split=0.2, callbacks=[callback])\n",
    "### check the loss trend of epochs\n",
    "pd.DataFrame(history.history).plot(kind='line', xlabel='epochs', figsize=(8, 6))\n",
    "\n",
    "import matplotlib.pyplot as plt\n",
    "plt.show()"
   ]
  },
  {
   "cell_type": "code",
   "execution_count": null,
   "id": "0cb9c439",
   "metadata": {
    "papermill": {
     "duration": 29.823322,
     "end_time": "2022-02-14T18:48:36.014305",
     "exception": false,
     "start_time": "2022-02-14T18:48:06.190983",
     "status": "completed"
    },
    "tags": []
   },
   "outputs": [],
   "source": []
  },
  {
   "cell_type": "code",
   "execution_count": 23,
   "id": "fa2c0004",
   "metadata": {
    "execution": {
     "iopub.execute_input": "2022-02-14T18:49:35.381197Z",
     "iopub.status.busy": "2022-02-14T18:49:35.378953Z",
     "iopub.status.idle": "2022-02-14T18:51:35.258666Z",
     "shell.execute_reply": "2022-02-14T18:51:35.257967Z",
     "shell.execute_reply.started": "2022-02-14T09:02:13.897635Z"
    },
    "papermill": {
     "duration": 149.581883,
     "end_time": "2022-02-14T18:51:35.258823",
     "exception": false,
     "start_time": "2022-02-14T18:49:05.676940",
     "status": "completed"
    },
    "tags": []
   },
   "outputs": [],
   "source": [
    "# predicting on training set\n",
    "y_train_pred_prob = model.predict(X_train_lstm)\n",
    "y_test_pred_prob = model.predict(X_test_lstm)\n",
    "y_train_pred = np.argmax(y_train_pred_prob, axis=1)\n",
    "y_test_pred = np.argmax(y_test_pred_prob, axis=1)"
   ]
  },
  {
   "cell_type": "code",
   "execution_count": 24,
   "id": "8e31e477",
   "metadata": {
    "execution": {
     "iopub.execute_input": "2022-02-14T18:52:36.507850Z",
     "iopub.status.busy": "2022-02-14T18:52:36.506944Z",
     "iopub.status.idle": "2022-02-14T18:52:39.194128Z",
     "shell.execute_reply": "2022-02-14T18:52:39.193665Z",
     "shell.execute_reply.started": "2022-02-14T09:04:59.157448Z"
    },
    "papermill": {
     "duration": 32.596347,
     "end_time": "2022-02-14T18:52:39.194279",
     "exception": false,
     "start_time": "2022-02-14T18:52:06.597932",
     "status": "completed"
    },
    "tags": []
   },
   "outputs": [
    {
     "data": {
      "image/png": "[encoded data removed]",
      "text/plain": [
       "<Figure size 864x864 with 2 Axes>"
      ]
     },
     "metadata": {
      "needs_background": "light"
     },
     "output_type": "display_data"
    }
   ],
   "source": [
    "from sklearn.metrics import confusion_matrix, ConfusionMatrixDisplay\n",
    "import matplotlib.pyplot as plt\n",
    "import seaborn as sns\n",
    "%matplotlib inline\n",
    "cm = confusion_matrix(y_train, y_train_pred)\n",
    "fig, ax = plt.subplots(figsize=(12, 12))\n",
    "ConfusionMatrixDisplay(confusion_matrix=cm, display_labels=le.classes_).plot(ax=ax)\n",
    "plt.show()"
   ]
  },
  {
   "cell_type": "code",
   "execution_count": 25,
   "id": "2c2c07aa",
   "metadata": {
    "execution": {
     "iopub.execute_input": "2022-02-14T18:53:38.836680Z",
     "iopub.status.busy": "2022-02-14T18:53:38.835742Z",
     "iopub.status.idle": "2022-02-14T18:53:39.550346Z",
     "shell.execute_reply": "2022-02-14T18:53:39.550781Z",
     "shell.execute_reply.started": "2022-02-14T09:05:03.646161Z"
    },
    "papermill": {
     "duration": 30.592747,
     "end_time": "2022-02-14T18:53:39.550940",
     "exception": false,
     "start_time": "2022-02-14T18:53:08.958193",
     "status": "completed"
    },
    "tags": []
   },
   "outputs": [
    {
     "data": {
      "image/png": "[encoded data removed]",
      "text/plain": [
       "<Figure size 864x864 with 2 Axes>"
      ]
     },
     "metadata": {
      "needs_background": "light"
     },
     "output_type": "display_data"
    }
   ],
   "source": [
    "cm = confusion_matrix(y_test, y_test_pred)\n",
    "fig, ax = plt.subplots(figsize=(12, 12))\n",
    "ConfusionMatrixDisplay(confusion_matrix=cm, display_labels=le.classes_).plot(ax=ax)\n",
    "plt.show()"
   ]
  },
  {
   "cell_type": "code",
   "execution_count": 26,
   "id": "6c8b0f0e",
   "metadata": {
    "execution": {
     "iopub.execute_input": "2022-02-14T18:54:38.548954Z",
     "iopub.status.busy": "2022-02-14T18:54:38.548036Z",
     "iopub.status.idle": "2022-02-14T18:54:38.550086Z",
     "shell.execute_reply": "2022-02-14T18:54:38.550642Z",
     "shell.execute_reply.started": "2022-02-14T09:05:04.727468Z"
    },
    "papermill": {
     "duration": 29.531353,
     "end_time": "2022-02-14T18:54:38.550799",
     "exception": false,
     "start_time": "2022-02-14T18:54:09.019446",
     "status": "completed"
    },
    "tags": []
   },
   "outputs": [],
   "source": [
    "def multilabel_matrix(y_true, y_pred, labels=None):\n",
    "    mlm = multilabel_confusion_matrix(y_true, y_pred, labels=labels)\n",
    "    df_performance = pd.DataFrame(index=labels, columns=['accuracy', 'precision', 'recall', 'f1_score'])\n",
    "    for i, label in enumerate(labels):\n",
    "        tn, fp, fn, tp = mlm[i].ravel()\n",
    "        accuracy = (tn + tp) / (tn + fp + fn + tp)\n",
    "        precision = tp / (tp + fp)\n",
    "        recall = tp / (tp + fn)\n",
    "\n",
    "        f1_score = 2*precision * recall / (precision + recall)\n",
    "        df_performance.loc[label] = [round(accuracy, 4), round(precision,4), \\\n",
    "                                     round(recall, 4), round(f1_score,4)]\n",
    "    return df_performance"
   ]
  },
  {
   "cell_type": "code",
   "execution_count": 27,
   "id": "d0e9e449",
   "metadata": {
    "execution": {
     "iopub.execute_input": "2022-02-14T18:55:37.769896Z",
     "iopub.status.busy": "2022-02-14T18:55:37.768928Z",
     "iopub.status.idle": "2022-02-14T18:55:37.777001Z",
     "shell.execute_reply": "2022-02-14T18:55:37.777526Z",
     "shell.execute_reply.started": "2022-02-14T09:05:04.738778Z"
    },
    "papermill": {
     "duration": 29.647073,
     "end_time": "2022-02-14T18:55:37.777682",
     "exception": false,
     "start_time": "2022-02-14T18:55:08.130609",
     "status": "completed"
    },
    "tags": []
   },
   "outputs": [],
   "source": [
    "from tensorflow.keras.utils import to_categorical\n",
    "from sklearn.metrics import roc_curve, auc\n",
    "from sklearn.metrics import roc_auc_score\n",
    "from itertools import cycle\n",
    "def RoC_Curve(y_score, y, labels, title): \n",
    "    y_cat = to_categorical(y)\n",
    "    \n",
    "    # Compute ROC curve and ROC area for each class\n",
    "    fpr = dict()\n",
    "    tpr = dict()\n",
    "    roc_auc = dict()\n",
    "    lw = 2\n",
    "    # First aggregate all false positive rates\n",
    "    n_classes = len(labels)\n",
    "#     print('n_classes:', n_classes)\n",
    "\n",
    "    for i in range(n_classes):\n",
    "        fpr[i], tpr[i], _ = roc_curve(y_cat[:, i], y_score[:, i])\n",
    "        roc_auc[i] = auc(fpr[i], tpr[i])\n",
    "\n",
    "    # Compute micro-average ROC curve and ROC area\n",
    "    fpr[\"micro\"], tpr[\"micro\"], _ = roc_curve(y_cat.ravel(), y_score.ravel())\n",
    "    roc_auc[\"micro\"] = auc(fpr[\"micro\"], tpr[\"micro\"])\n",
    "\n",
    "    # First aggregate all false positive rates\n",
    "    all_fpr = np.unique(np.concatenate([fpr[i] for i in range(n_classes)]))\n",
    "\n",
    "    # Then interpolate all ROC curves at this points\n",
    "    mean_tpr = np.zeros_like(all_fpr)\n",
    "    for i in range(n_classes):\n",
    "        mean_tpr += np.interp(all_fpr, fpr[i], tpr[i])\n",
    "\n",
    "    # Finally average it and compute AUC\n",
    "    mean_tpr /= n_classes\n",
    "\n",
    "    fpr[\"macro\"] = all_fpr\n",
    "    tpr[\"macro\"] = mean_tpr\n",
    "    roc_auc[\"macro\"] = auc(fpr[\"macro\"], tpr[\"macro\"])\n",
    "\n",
    "    # Plot all ROC curves\n",
    "    plt.figure(figsize=(8,8))\n",
    "    plt.plot(fpr[\"micro\"], tpr[\"micro\"],\n",
    "             label='micro-average ROC curve (area = {0:0.4f})'\n",
    "                   ''.format(roc_auc[\"micro\"]),\n",
    "             color='deeppink', linestyle=':', linewidth=4)\n",
    "\n",
    "    plt.plot(fpr[\"macro\"], tpr[\"macro\"],\n",
    "             label='macro-average ROC curve (area = {0:0.4f})'\n",
    "                   ''.format(roc_auc[\"macro\"]),\n",
    "             color='navy', linestyle=':', linewidth=4)\n",
    "\n",
    "    for i in range(n_classes):\n",
    "        plt.plot(fpr[i], tpr[i], lw=lw,\n",
    "                 label=f'ROC curve of class {labels[i]} (area = {roc_auc[i]:0.4f})')\n",
    "\n",
    "    plt.plot([0, 1], [0, 1], 'k--', lw=lw)\n",
    "    plt.xlim([0.0, 1.0])\n",
    "    plt.ylim([0.0, 1.05])\n",
    "    plt.xlabel('False Positive Rate')\n",
    "    plt.ylabel('True Positive Rate')\n",
    "    plt.title(title, fontsize=16)\n",
    "    plt.legend(loc=\"lower right\")\n",
    "    plt.show()"
   ]
  },
  {
   "cell_type": "code",
   "execution_count": 28,
   "id": "5b0fbf11",
   "metadata": {
    "execution": {
     "iopub.execute_input": "2022-02-14T18:56:37.994972Z",
     "iopub.status.busy": "2022-02-14T18:56:37.993330Z",
     "iopub.status.idle": "2022-02-14T18:59:55.853973Z",
     "shell.execute_reply": "2022-02-14T18:59:55.853510Z",
     "shell.execute_reply.started": "2022-02-14T09:05:04.782157Z"
    },
    "papermill": {
     "duration": 227.704654,
     "end_time": "2022-02-14T18:59:55.854133",
     "exception": false,
     "start_time": "2022-02-14T18:56:08.149479",
     "status": "completed"
    },
    "tags": []
   },
   "outputs": [
    {
     "name": "stdout",
     "output_type": "stream",
     "text": [
      "              precision    recall  f1-score   support\n",
      "\n",
      "      BENIGN       1.00      0.99      1.00   1703490\n",
      "      attack       0.99      1.00      1.00   1703490\n",
      "\n",
      "    accuracy                           1.00   3406980\n",
      "   macro avg       1.00      1.00      1.00   3406980\n",
      "weighted avg       1.00      1.00      1.00   3406980\n",
      "\n"
     ]
    },
    {
     "data": {
      "text/html": [
       "<div>\n",
       "<style scoped>\n",
       "    .dataframe tbody tr th:only-of-type {\n",
       "        vertical-align: middle;\n",
       "    }\n",
       "\n",
       "    .dataframe tbody tr th {\n",
       "        vertical-align: top;\n",
       "    }\n",
       "\n",
       "    .dataframe thead th {\n",
       "        text-align: right;\n",
       "    }\n",
       "</style>\n",
       "<table border=\"1\" class=\"dataframe\">\n",
       "  <thead>\n",
       "    <tr style=\"text-align: right;\">\n",
       "      <th></th>\n",
       "      <th>accuracy</th>\n",
       "      <th>precision</th>\n",
       "      <th>recall</th>\n",
       "      <th>f1_score</th>\n",
       "    </tr>\n",
       "  </thead>\n",
       "  <tbody>\n",
       "    <tr>\n",
       "      <th>BENIGN</th>\n",
       "      <td>0.9951</td>\n",
       "      <td>0.9921</td>\n",
       "      <td>0.9981</td>\n",
       "      <td>0.9951</td>\n",
       "    </tr>\n",
       "    <tr>\n",
       "      <th>attack</th>\n",
       "      <td>0.9951</td>\n",
       "      <td>0.9981</td>\n",
       "      <td>0.9921</td>\n",
       "      <td>0.9951</td>\n",
       "    </tr>\n",
       "  </tbody>\n",
       "</table>\n",
       "</div>"
      ],
      "text/plain": [
       "       accuracy precision  recall f1_score\n",
       "BENIGN   0.9951    0.9921  0.9981   0.9951\n",
       "attack   0.9951    0.9981  0.9921   0.9951"
      ]
     },
     "execution_count": 28,
     "metadata": {},
     "output_type": "execute_result"
    }
   ],
   "source": [
    "from sklearn.metrics import classification_report, multilabel_confusion_matrix\n",
    "y_train_pred_labels = le.inverse_transform(y_train_pred)\n",
    "y_train_labels = le.inverse_transform(y_train)\n",
    "print(classification_report(y_train_labels, y_train_pred_labels))\n",
    "performance = multilabel_matrix(y_train_pred_labels, y_train_labels, labels=le.classes_)\n",
    "performance"
   ]
  },
  {
   "cell_type": "code",
   "execution_count": 29,
   "id": "4d0c5aec",
   "metadata": {
    "execution": {
     "iopub.execute_input": "2022-02-14T19:00:55.375629Z",
     "iopub.status.busy": "2022-02-14T19:00:55.374981Z",
     "iopub.status.idle": "2022-02-14T19:01:28.300342Z",
     "shell.execute_reply": "2022-02-14T19:01:28.299646Z",
     "shell.execute_reply.started": "2022-02-14T09:11:17.279621Z"
    },
    "papermill": {
     "duration": 62.879761,
     "end_time": "2022-02-14T19:01:28.300495",
     "exception": false,
     "start_time": "2022-02-14T19:00:25.420734",
     "status": "completed"
    },
    "tags": []
   },
   "outputs": [
    {
     "name": "stdout",
     "output_type": "stream",
     "text": [
      "              precision    recall  f1-score   support\n",
      "\n",
      "      BENIGN       1.00      0.99      1.00    567830\n",
      "      attack       0.97      1.00      0.98    139139\n",
      "\n",
      "    accuracy                           0.99    706969\n",
      "   macro avg       0.98      1.00      0.99    706969\n",
      "weighted avg       0.99      0.99      0.99    706969\n",
      "\n"
     ]
    }
   ],
   "source": [
    "y_test_pred_labels = le.inverse_transform(y_test_pred)\n",
    "y_test_true_labels = le.inverse_transform(y_test)\n",
    "print(classification_report(y_test_true_labels,y_test_pred_labels))"
   ]
  },
  {
   "cell_type": "code",
   "execution_count": 30,
   "id": "a305d6f7",
   "metadata": {
    "execution": {
     "iopub.execute_input": "2022-02-14T19:02:27.596961Z",
     "iopub.status.busy": "2022-02-14T19:02:27.596390Z",
     "iopub.status.idle": "2022-02-14T19:02:31.370400Z",
     "shell.execute_reply": "2022-02-14T19:02:31.370910Z",
     "shell.execute_reply.started": "2022-02-14T09:12:19.528491Z"
    },
    "papermill": {
     "duration": 33.438672,
     "end_time": "2022-02-14T19:02:31.371065",
     "exception": false,
     "start_time": "2022-02-14T19:01:57.932393",
     "status": "completed"
    },
    "tags": []
   },
   "outputs": [
    {
     "data": {
      "text/html": [
       "<div>\n",
       "<style scoped>\n",
       "    .dataframe tbody tr th:only-of-type {\n",
       "        vertical-align: middle;\n",
       "    }\n",
       "\n",
       "    .dataframe tbody tr th {\n",
       "        vertical-align: top;\n",
       "    }\n",
       "\n",
       "    .dataframe thead th {\n",
       "        text-align: right;\n",
       "    }\n",
       "</style>\n",
       "<table border=\"1\" class=\"dataframe\">\n",
       "  <thead>\n",
       "    <tr style=\"text-align: right;\">\n",
       "      <th></th>\n",
       "      <th>accuracy</th>\n",
       "      <th>precision</th>\n",
       "      <th>recall</th>\n",
       "      <th>f1_score</th>\n",
       "    </tr>\n",
       "  </thead>\n",
       "  <tbody>\n",
       "    <tr>\n",
       "      <th>BENIGN</th>\n",
       "      <td>0.9933</td>\n",
       "      <td>0.9995</td>\n",
       "      <td>0.9922</td>\n",
       "      <td>0.9958</td>\n",
       "    </tr>\n",
       "    <tr>\n",
       "      <th>attack</th>\n",
       "      <td>0.9933</td>\n",
       "      <td>0.969</td>\n",
       "      <td>0.9979</td>\n",
       "      <td>0.9832</td>\n",
       "    </tr>\n",
       "  </tbody>\n",
       "</table>\n",
       "</div>"
      ],
      "text/plain": [
       "       accuracy precision  recall f1_score\n",
       "BENIGN   0.9933    0.9995  0.9922   0.9958\n",
       "attack   0.9933     0.969  0.9979   0.9832"
      ]
     },
     "execution_count": 30,
     "metadata": {},
     "output_type": "execute_result"
    }
   ],
   "source": [
    "performance = multilabel_matrix(y_test_true_labels, y_test_pred_labels, labels=le.classes_)\n",
    "performance"
   ]
  },
  {
   "cell_type": "code",
   "execution_count": 31,
   "id": "d8c27249",
   "metadata": {
    "execution": {
     "iopub.execute_input": "2022-02-14T19:03:30.668740Z",
     "iopub.status.busy": "2022-02-14T19:03:30.667199Z",
     "iopub.status.idle": "2022-02-14T19:03:34.774416Z",
     "shell.execute_reply": "2022-02-14T19:03:34.774876Z",
     "shell.execute_reply.started": "2022-02-14T09:12:26.723312Z"
    },
    "papermill": {
     "duration": 33.728014,
     "end_time": "2022-02-14T19:03:34.775042",
     "exception": false,
     "start_time": "2022-02-14T19:03:01.047028",
     "status": "completed"
    },
    "tags": []
   },
   "outputs": [
    {
     "data": {
      "image/png": "[encoded data removed]",
      "text/plain": [
       "<Figure size 576x576 with 1 Axes>"
      ]
     },
     "metadata": {
      "needs_background": "light"
     },
     "output_type": "display_data"
    }
   ],
   "source": [
    "RoC_Curve(y_train_pred_prob, y_train, le.classes_, title='ROC for CIC-IDS2017 training set')"
   ]
  },
  {
   "cell_type": "code",
   "execution_count": 32,
   "id": "4e2f077b",
   "metadata": {
    "execution": {
     "iopub.execute_input": "2022-02-14T19:04:34.581376Z",
     "iopub.status.busy": "2022-02-14T19:04:34.580800Z",
     "iopub.status.idle": "2022-02-14T19:04:35.406775Z",
     "shell.execute_reply": "2022-02-14T19:04:35.406132Z",
     "shell.execute_reply.started": "2022-02-14T09:12:31.154081Z"
    },
    "papermill": {
     "duration": 30.520166,
     "end_time": "2022-02-14T19:04:35.406908",
     "exception": false,
     "start_time": "2022-02-14T19:04:04.886742",
     "status": "completed"
    },
    "tags": []
   },
   "outputs": [
    {
     "data": {
      "image/png": "[encoded data removed]",
      "text/plain": [
       "<Figure size 576x576 with 1 Axes>"
      ]
     },
     "metadata": {
      "needs_background": "light"
     },
     "output_type": "display_data"
    }
   ],
   "source": [
    "RoC_Curve(y_test_pred_prob, y_test, le.classes_, title='ROC for CIC-IDS2017 test set')"
   ]
  }
 ],
 "metadata": {
  "kernelspec": {
   "display_name": "Python 3 (ipykernel)",
   "language": "python",
   "name": "python3"
  },
  "language_info": {
   "codemirror_mode": {
    "name": "ipython",
    "version": 3
   },
   "file_extension": ".py",
   "mimetype": "text/x-python",
   "name": "python",
   "nbconvert_exporter": "python",
   "pygments_lexer": "ipython3",
   "version": "3.9.13"
  },
  "papermill": {
   "default_parameters": {},
   "duration": 9504.921227,
   "end_time": "2022-02-14T19:08:06.532693",
   "environment_variables": {},
   "exception": null,
   "input_path": "__notebook__.ipynb",
   "output_path": "__notebook__.ipynb",
   "parameters": {},
   "start_time": "2022-02-14T16:29:41.611466",
   "version": "2.3.3"
  }
 },
 "nbformat": 4,
 "nbformat_minor": 5
}
